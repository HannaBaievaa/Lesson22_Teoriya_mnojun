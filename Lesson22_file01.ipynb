{
 "cells": [
  {
   "cell_type": "markdown",
   "id": "9966a4c3",
   "metadata": {},
   "source": [
    "**Рішення завдання №1**"
   ]
  },
  {
   "cell_type": "code",
   "execution_count": null,
   "id": "e1faf7b7",
   "metadata": {},
   "outputs": [],
   "source": [
    " #розібратись з імпортом бібліотеки\n",
    "import matplotlib.pyplot as plt\n",
    "from matplotlib_venn import venn3\n",
    "\n",
    "venn3(subsets = (15,16,7,19,9,6,4), set_labels = ('Математика', 'Фізика', 'Хімія'))\n",
    "plt.show()"
   ]
  },
  {
   "cell_type": "markdown",
   "id": "5cd219a1",
   "metadata": {},
   "source": [
    "За умовою задачі маємо:M=15, F=16, X=19, MF=7,MX=9, FX=6, MFX=4.\n",
    "Визначимо скільки студентів отримали хоча б по одній відмінній оцінці за наступною формулою: Result = (M+F+X)-(MF+MX+FX)+MFX"
   ]
  },
  {
   "cell_type": "code",
   "execution_count": 3,
   "id": "f5723ff2",
   "metadata": {},
   "outputs": [
    {
     "data": {
      "text/plain": [
       "32"
      ]
     },
     "execution_count": 3,
     "metadata": {},
     "output_type": "execute_result"
    }
   ],
   "source": [
    "M=15\n",
    "F=16\n",
    "X=19\n",
    "MF=7\n",
    "MX=9\n",
    "FX=6\n",
    "MFX=4\n",
    "Result = (M+F+X)-(MF+MX+FX)+MFX\n",
    "Result"
   ]
  },
  {
   "cell_type": "markdown",
   "id": "e4547923",
   "metadata": {},
   "source": [
    "Відповідь: 32 студенти отримали по хоча б одній відмінній оцінці"
   ]
  },
  {
   "cell_type": "markdown",
   "id": "21d5a0c4",
   "metadata": {},
   "source": [
    "**Рішення задачі №2**"
   ]
  },
  {
   "cell_type": "code",
   "execution_count": null,
   "id": "cc8023f8",
   "metadata": {},
   "outputs": [],
   "source": [
    " #розібратись з імпортом бібліотеки\n",
    "import matplotlib.pyplot as plt\n",
    "from matplotlib_venn import venn3\n",
    "\n",
    "venn3(subsets = (12,8,5,4,3,2,1), set_labels = ('Дощ', 'Вітер', 'Холод'))\n",
    "plt.show()"
   ]
  },
  {
   "cell_type": "markdown",
   "id": "574bee7f",
   "metadata": {},
   "source": [
    "За умовою задачі маємо:Days=30, D=12, V=8, X=4, DV=5, DX=3, VX=2, DVX=1. Визначимо скільки днів була погода хоча б з дощем чи з вітром, чи з холодом за наступною формулою:Not_sunny_days = (D+V+X)-(DV+DX+VX)+DVX"
   ]
  },
  {
   "cell_type": "code",
   "execution_count": 5,
   "id": "bfe860c5",
   "metadata": {},
   "outputs": [
    {
     "data": {
      "text/plain": [
       "15"
      ]
     },
     "execution_count": 5,
     "metadata": {},
     "output_type": "execute_result"
    }
   ],
   "source": [
    "D=12\n",
    "V=8\n",
    "X=4\n",
    "DV=5\n",
    "DX=3\n",
    "VX=2\n",
    "DVX=1\n",
    "Not_sunny_days = (D+V+X)-(DV+DX+VX)+DVX\n",
    "Not_sunny_days"
   ]
  },
  {
   "cell_type": "markdown",
   "id": "3904bf27",
   "metadata": {},
   "source": [
    "Знайдемо сонячні дні за формулою: Sunny_days=Days-Not_sunny_days"
   ]
  },
  {
   "cell_type": "code",
   "execution_count": 10,
   "id": "7cc75ecd",
   "metadata": {},
   "outputs": [
    {
     "data": {
      "text/plain": [
       "15"
      ]
     },
     "execution_count": 10,
     "metadata": {},
     "output_type": "execute_result"
    }
   ],
   "source": [
    "Days = 30\n",
    "Not_sunny_days = 15\n",
    "Sunny_days=Days-Not_sunny_days\n",
    "Sunny_days"
   ]
  },
  {
   "cell_type": "markdown",
   "id": "01e6ee56",
   "metadata": {},
   "source": [
    "Відповідь:гарна погода була 15 днів у місяці"
   ]
  }
 ],
 "metadata": {
  "kernelspec": {
   "display_name": "Python 3 (ipykernel)",
   "language": "python",
   "name": "python3"
  },
  "language_info": {
   "codemirror_mode": {
    "name": "ipython",
    "version": 3
   },
   "file_extension": ".py",
   "mimetype": "text/x-python",
   "name": "python",
   "nbconvert_exporter": "python",
   "pygments_lexer": "ipython3",
   "version": "3.10.11"
  }
 },
 "nbformat": 4,
 "nbformat_minor": 5
}
